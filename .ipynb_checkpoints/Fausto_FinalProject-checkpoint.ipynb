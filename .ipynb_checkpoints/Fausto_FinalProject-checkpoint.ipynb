{
 "cells": [
  {
   "cell_type": "markdown",
   "id": "30fd735e-5513-4e77-8e50-a7bec5238dc7",
   "metadata": {},
   "source": [
    "# K-Means Clustering\n",
    "\n",
    "This project aims to show the application of the K-Means algorithm to identify clusters in a synthetic dataset. I applied K-Means to group randomly generated data using the make_blobs function from scikit-learn.\n",
    "\n",
    "The main purpose of this project is to showcase proficiency in applying clustering algorithms.\n",
    " \n",
    "**Author:** Fausto Lira  "
   ]
  },
  {
   "cell_type": "code",
   "execution_count": null,
   "id": "2602e1ed-8fd8-4da3-8441-bfb35d0780ec",
   "metadata": {
    "is_executing": true
   },
   "outputs": [],
   "source": [
    "# packages\n",
    "\n",
    "# Avoiding warnings using Kmeans\n",
    "import os\n",
    "os.environ['OMP_NUM_THREADS'] = '3'\n",
    "\n",
    "# Working with data\n",
    "import pandas as pd\n",
    "import numpy as np\n",
    "\n",
    "# Creating the data\n",
    "from sklearn.datasets import make_blobs\n",
    "\n",
    "# Plotting Chart\n",
    "import matplotlib.pyplot as plt\n",
    "import seaborn as sns\n",
    "\n",
    "# Clustering models (with additional code to avoid warning)\n",
    "from sklearn.cluster import KMeans\n",
    "\n",
    "# Silhouette method\n",
    "from sklearn.metrics import silhouette_score\n",
    "\n",
    "# Confusion Matrix \n",
    "from sklearn.metrics import ConfusionMatrixDisplay, confusion_matrix\n",
    "\n",
    "# Metrics\n",
    "from sklearn.metrics import classification_report"
   ]
  },
  {
   "cell_type": "markdown",
   "id": "2020f3a5-b967-4f68-a237-af27cf1749fc",
   "metadata": {},
   "source": [
    "## 1. Generate the Dataset"
   ]
  },
  {
   "cell_type": "code",
   "execution_count": null,
   "id": "7a5cf5bf-e17d-410f-b0f0-be4aaccd3803",
   "metadata": {},
   "outputs": [],
   "source": [
    "# creating the data\n",
    "db = make_blobs(n_samples=600, centers=4, n_features=2, random_state=20)"
   ]
  },
  {
   "cell_type": "code",
   "execution_count": null,
   "id": "278ae5f2-a1c8-4442-88d5-2a9618d35f46",
   "metadata": {},
   "outputs": [],
   "source": [
    "# setting the features and target\n",
    "features_db = db[0]\n",
    "labels_db = db[1]"
   ]
  },
  {
   "cell_type": "code",
   "execution_count": null,
   "id": "bb8a65c2-75f5-4f98-ad1c-22859ee1b7b9",
   "metadata": {},
   "outputs": [],
   "source": [
    "# seaborn set style\n",
    "sns.set_style('dark')"
   ]
  },
  {
   "cell_type": "code",
   "execution_count": null,
   "id": "ae53f486-c13a-4c8d-84aa-cd16ad0e1ac9",
   "metadata": {},
   "outputs": [],
   "source": [
    "# check the balance of the clusters\n",
    "sns.countplot(\n",
    "    pd.DataFrame(labels_db, columns=['Target']), \n",
    "    x='Target'\n",
    ")\n",
    "\n",
    "plt.show()"
   ]
  },
  {
   "cell_type": "markdown",
   "id": "eeede597-3a71-4be2-ae74-065e850f0398",
   "metadata": {},
   "source": [
    "## 2. Optimal Number of Centroids by Elbow Method"
   ]
  },
  {
   "cell_type": "code",
   "execution_count": null,
   "id": "1eabe99c-6755-414e-9b64-1a7a39047ec2",
   "metadata": {},
   "outputs": [],
   "source": [
    "# Elbow method\n",
    "inertia = []\n",
    "k = range(1,10)\n",
    "for i in k:\n",
    "    km = KMeans(n_clusters=i, n_init = 20, random_state=22)\n",
    "    km.fit(features_db)\n",
    "    inertia.append(km.inertia_)"
   ]
  },
  {
   "cell_type": "code",
   "execution_count": null,
   "id": "2e4c1dd4-ef85-4758-b851-40a566f4c0fa",
   "metadata": {},
   "outputs": [],
   "source": [
    "# Plotting Elbow method\n",
    "plt.plot(k, inertia, 'bx-')\n",
    "plt.xlabel('k')\n",
    "plt.ylabel('Within cluster variance')\n",
    "plt.title('The Elbow Method: optimal number of clusters')\n",
    "plt.show()"
   ]
  },
  {
   "cell_type": "markdown",
   "id": "3e5b2c13-05f2-4aef-9eb4-438bbfdc8382",
   "metadata": {},
   "source": [
    "According to the Elbow chart the most optimal number of centroids is 4."
   ]
  },
  {
   "cell_type": "markdown",
   "id": "a00ae037-d0ab-4819-8e2b-50900700a1f1",
   "metadata": {},
   "source": [
    "## 3. Optimal Number of Centroids by Silhouette Method"
   ]
  },
  {
   "cell_type": "code",
   "execution_count": null,
   "id": "5b0c8faf-b28a-45d7-b8c6-8d12a040bf47",
   "metadata": {},
   "outputs": [],
   "source": [
    "# Plotting silhouette chart\n",
    "silhouette = []\n",
    "\n",
    "k = range(2,10)\n",
    "for i in k:   \n",
    "    km = KMeans(n_clusters=i, n_init = 20, random_state=22)\n",
    "    km.fit(features_db)\n",
    "    labels = km.labels_\n",
    "    silhouette.append(silhouette_score(features_db, labels))\n",
    "    \n",
    " # Plotting silhouette score\n",
    "plt.plot(k, silhouette, 'bx-')\n",
    "plt.xlabel('k') \n",
    "plt.ylabel('Silhouette score') \n",
    "plt.title('Silhouette method: optimal number of clusters')\n",
    "plt.show()"
   ]
  },
  {
   "cell_type": "markdown",
   "id": "a97fcd89-39d7-467e-b5c2-dd59bdd03d7f",
   "metadata": {},
   "source": [
    "According to the Silhouette method, the ideal number of centroids is 4. The same conclusion was observed from the elbow plot.\r\n",
    "Both seem very clear pointing to the number 4 as the ideal number of clusters. In this case, both are very accurate.\r\n",
    "\r\n",
    "Since both methods provide the same ideal number, it can be concluded that the number 4 is the best estimate for the ideal number of clusters."
   ]
  },
  {
   "cell_type": "markdown",
   "id": "92c1596d-e09f-4db3-a5eb-fc78a8de2c57",
   "metadata": {},
   "source": [
    "## 4. K-Means Clustering with k=4"
   ]
  },
  {
   "cell_type": "code",
   "execution_count": null,
   "id": "9c7329ec-7e50-463b-9379-9afccaa32306",
   "metadata": {},
   "outputs": [],
   "source": [
    "# k-means with the optimal number of clusters\n",
    "km4 = KMeans(n_clusters=4, n_init = 10, random_state=100)\n",
    "predicted_labels = km4.fit_predict(features_db)"
   ]
  },
  {
   "cell_type": "code",
   "execution_count": null,
   "id": "3da33ab6-23b2-4f18-928d-61c769259b41",
   "metadata": {},
   "outputs": [],
   "source": [
    "# create a dataset with the features and cluster's labels\n",
    "features_clustered = \\\n",
    "    pd.DataFrame(\n",
    "        np.column_stack((features_db, predicted_labels)), \n",
    "        columns=['F1', 'F2', 'Clusters']\n",
    ")\n",
    "\n",
    "features_clustered['Clusters'] = features_clustered['Clusters'].astype(int)"
   ]
  },
  {
   "cell_type": "code",
   "execution_count": null,
   "id": "c4b16cb0-8a98-4c35-91c1-df35b87e61d4",
   "metadata": {},
   "outputs": [],
   "source": [
    "# plot the clusters in a scatter plot chart\n",
    "sns.scatterplot(\n",
    "    x = 'F1',\n",
    "    y = 'F2',\n",
    "    hue = 'Clusters',\n",
    "    data = features_clustered,\n",
    "    palette = 'colorblind'\n",
    ")\n",
    "\n",
    "plt.scatter(\n",
    "    x = km4.cluster_centers_[:, 0],\n",
    "    y = km4.cluster_centers_[:, 1],\n",
    "    c = 'black',\n",
    "    marker = 'x'\n",
    ")\n",
    "\n",
    "plt.show()"
   ]
  },
  {
   "cell_type": "code",
   "execution_count": null,
   "id": "0268cac1-a844-4dc8-8798-d97cbb18d297",
   "metadata": {},
   "outputs": [],
   "source": [
    "# inertia\n",
    "km4.inertia_"
   ]
  },
  {
   "cell_type": "markdown",
   "id": "73ec64c5-f01c-4c6d-b5af-2c2ad5f0943c",
   "metadata": {},
   "source": [
    "### Analyzing the Clusters\n",
    "\n",
    "- In the graph above you can see that the clusters seem to fit the data very well.\n",
    "- There is no overlap with the clusters.\n",
    "- The centers are very well represented in the graph."
   ]
  },
  {
   "cell_type": "markdown",
   "id": "73b91017-7129-43bc-b05c-88aa6b99a886",
   "metadata": {},
   "source": [
    "## 5. Evaluate the Labels Predicted by the K-Means"
   ]
  },
  {
   "cell_type": "code",
   "execution_count": null,
   "id": "b34e8db5-a3f4-4529-8e05-601db788aeba",
   "metadata": {},
   "outputs": [],
   "source": [
    "labels_db"
   ]
  },
  {
   "cell_type": "code",
   "execution_count": null,
   "id": "396905a0-3c1f-40b9-94dd-5d02da662ea7",
   "metadata": {},
   "outputs": [],
   "source": [
    "predicted_labels"
   ]
  },
  {
   "cell_type": "code",
   "execution_count": null,
   "id": "52fa17e5-5cfc-4417-9114-c4525254b370",
   "metadata": {
    "is_executing": true
   },
   "outputs": [],
   "source": [
    "fig, ax = plt.subplots(figsize=(8, 5))\n",
    "cmd = ConfusionMatrixDisplay(\n",
    "    confusion_matrix(labels_db, predicted_labels),\n",
    "    display_labels = [f'Class {i}' for i in range(4)]\n",
    ")\n",
    "\n",
    "cmd.plot(ax=ax, cmap='cividis')\n",
    "plt.title('K-Means k=4')\n",
    "plt.show()"
   ]
  },
  {
   "cell_type": "markdown",
   "id": "0acade63-a1cb-44a5-816d-02a705527996",
   "metadata": {},
   "source": [
    "Note that the classification is perfect. The only problem is the name of the labels. Replacing the name of the labels in the clustering predictions will make the visualization correct."
   ]
  },
  {
   "cell_type": "code",
   "execution_count": null,
   "id": "d380d4b7-e492-499b-9bf4-94efdf46eae1",
   "metadata": {},
   "outputs": [],
   "source": [
    "# replace label names in the predictions set\n",
    "for i in range(4):\n",
    "    predicted_labels[predicted_labels==i] = i + 4\n",
    "\n",
    "predicted_labels[predicted_labels==4] = 1\n",
    "predicted_labels[predicted_labels==5] = 2\n",
    "predicted_labels[predicted_labels==6] = 3\n",
    "predicted_labels[predicted_labels==7] = 0"
   ]
  },
  {
   "cell_type": "code",
   "execution_count": null,
   "id": "b70d2d4e-d35f-4bbf-bcfe-003fcd477145",
   "metadata": {},
   "outputs": [],
   "source": [
    "# plot the confusion matrix\n",
    "fig, ax = plt.subplots(figsize=(8, 5))\n",
    "cmd = ConfusionMatrixDisplay(\n",
    "    confusion_matrix(labels_db, predicted_labels),\n",
    "    display_labels = [f'Class {i}' for i in range(4)]\n",
    ")\n",
    "\n",
    "cmd.plot(ax=ax, cmap='cividis')\n",
    "plt.title('K-Means k=4')\n",
    "plt.show()"
   ]
  },
  {
   "cell_type": "code",
   "execution_count": null,
   "id": "54be2ef0-e5e1-4dcd-b9e8-579176e90746",
   "metadata": {},
   "outputs": [],
   "source": [
    "print(classification_report(labels_db, predicted_labels))"
   ]
  },
  {
   "cell_type": "markdown",
   "id": "4365ba2c-d040-48e1-abb3-d39ea8327e9e",
   "metadata": {},
   "source": [
    "### Conclusion\n",
    "\n",
    "- From the confusion matrix and classification report, it can be concluded that the accuracy is 100%.\r\n",
    "- Furthermore, from the confusion matrix and the rating_report() method, it can be seen thatall  themetrics are equal to 1t as suspected from the scatterplot.\r\n",
    "- Sometimes the label names of the make_blobs() function and k-means processes may differ only by the names. It is important to be aware of this."
   ]
  }
 ],
 "metadata": {
  "kernelspec": {
   "display_name": "Python 3 (ipykernel)",
   "language": "python",
   "name": "python3"
  },
  "language_info": {
   "codemirror_mode": {
    "name": "ipython",
    "version": 3
   },
   "file_extension": ".py",
   "mimetype": "text/x-python",
   "name": "python",
   "nbconvert_exporter": "python",
   "pygments_lexer": "ipython3",
   "version": "3.11.9"
  }
 },
 "nbformat": 4,
 "nbformat_minor": 5
}
